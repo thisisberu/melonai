{
 "cells": [
  {
   "cell_type": "markdown",
   "metadata": {},
   "source": []
  },
  {
   "cell_type": "code",
   "execution_count": 26,
   "metadata": {},
   "outputs": [],
   "source": [
    "# Standard library imports\n",
    "from google.cloud import bigquery\n",
    "import pandas as pd \n",
    "# from langchain_openai import ChatOpenAI\n",
    "# from langchain.chat_models import ChatOpenAI  # old syntax\n",
    "from langchain.prompts import PromptTemplate\n",
    "from langchain_core.output_parsers import StrOutputParser  # Changed this line"
   ]
  },
  {
   "cell_type": "code",
   "execution_count": null,
   "metadata": {},
   "outputs": [],
   "source": [
    "def get_bigquery_schema(project_id, dataset_id, table_id):\n",
    "    client = bigquery.Client(project=project_id)\n",
    "    \n",
    "    # Get the full table reference\n",
    "    table_ref = client.dataset(dataset_id).table(table_id)\n",
    "    \n",
    "    # Retrieve the table\n",
    "    table = client.get_table(table_ref)\n",
    "    \n",
    "    schema_details = []\n",
    "    for field in table.schema:\n",
    "        schema_details.append({\n",
    "            'name': field.name,\n",
    "            'type': field.field_type,\n",
    "            'mode': field.mode,\n",
    "        })\n",
    "    \n",
    "    return schema_details \n",
    "\n",
    "def execute_bigquery_query(query: str) -> str:\n",
    "    \"\"\"Execute BigQuery query and return results as formatted string\"\"\"\n",
    "    try:\n",
    "        client = bigquery.Client()\n",
    "        query_job = client.query(query)\n",
    "        results = query_job.result()\n",
    "        \n",
    "        # Convert results to DataFrame and then to string\n",
    "        df = results.to_dataframe()\n",
    "        if len(df) > 10:  # Limit large results\n",
    "            df = df.head(10)\n",
    "        return df.to_string()\n",
    "    except Exception as e:\n",
    "        return f\"Error executing query: {str(e)}\"\n",
    "\n",
    "def generate_bigquery_query(schema: str, question: str) -> str:\n",
    "    \"\"\"Generate BigQuery SQL query from natural language question\"\"\"\n",
    "    model = ChatOpenAI(temperature=0, model=\"gpt-4-0125-preview\")\n",
    "    \n",
    "    prompt = PromptTemplate(\n",
    "        template=\"\"\"You are a data analyst who converts natural language questions into BigQuery SQL queries.\n",
    "        Using the following schema, write a SQL query to answer the user's question.\n",
    "        \n",
    "        SCHEMA:\n",
    "        {schema}\n",
    "        \n",
    "        QUESTION: {question}\n",
    "        \n",
    "        Write only the SQL query, nothing else. Ensure the query is compatible with BigQuery SQL syntax.\n",
    "        \"\"\",\n",
    "        input_variables=[\"schema\", \"question\"]\n",
    "    )\n",
    "    \n",
    "    chain = prompt | model | StrOutputParser()\n",
    "    return chain.invoke({\"schema\": schema, \"question\": question})\n",
    " "
   ]
  },
  {
   "cell_type": "code",
   "execution_count": null,
   "metadata": {},
   "outputs": [],
   "source": []
  },
  {
   "cell_type": "code",
   "execution_count": null,
   "metadata": {},
   "outputs": [],
   "source": []
  }
 ],
 "metadata": {
  "kernelspec": {
   "display_name": "mannu2",
   "language": "python",
   "name": "python3"
  },
  "language_info": {
   "codemirror_mode": {
    "name": "ipython",
    "version": 3
   },
   "file_extension": ".py",
   "mimetype": "text/x-python",
   "name": "python",
   "nbconvert_exporter": "python",
   "pygments_lexer": "ipython3",
   "version": "3.12.6"
  }
 },
 "nbformat": 4,
 "nbformat_minor": 2
}
