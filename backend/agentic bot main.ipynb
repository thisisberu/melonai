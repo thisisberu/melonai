{
 "cells": [
  {
   "cell_type": "code",
   "execution_count": 1,
   "metadata": {},
   "outputs": [],
   "source": [
    "import os \n",
    "import google.auth\n",
    "from dotenv import load_dotenv \n",
    "load_dotenv() \n",
    "os.environ[\"OPENAI_API_KEY\"] = os.getenv(\"OPENAI_API_KEY\")\n",
    "os.environ[\"LANGCHAIN_API_KEY\"]=os.getenv(\"LANGCHAIN_API_KEY\")\n",
    "os.environ[\"LANGCHAIN_TRACING_V2\"]=\"true\"\n",
    "os.environ[\"LANGCHAIN_PROJECT\"]=os.getenv(\"LANGCHAIN_PROJECT\")\n",
    "GROQ_API_KEY = \"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\"\n",
    "\n",
    "\n",
    "\n",
    "#credentials, project_id = google.auth.default() \n",
    "PROJECT_ID = \"amw-dna-coe-working-ds-dev\"\n",
    "REGION = \"us-central1\"\n",
    "#CREDENTIALS = credentials\n",
    "LOCATION_ID = \"global\"\n",
    "DATA_STORE_ID = \"amway-articles_1727879500677\" \n",
    "\n",
    "DATA_STORE_ID2 = \"who-blog-content_1727226322567\"\n",
    "DATA_STORE_ID3 = \"amway-insider_1717140077416\"\n",
    "\n",
    "DATA_STORE_ID4= \"core-plan-document-of-record_1728023514692\" \n",
    "LOCATION_ID4 = \"us\" \n"
   ]
  },
  {
   "cell_type": "code",
   "execution_count": 2,
   "metadata": {},
   "outputs": [],
   "source": [
    "from  langchain_google_community import VertexAISearchRetriever,VertexAIMultiTurnSearchRetriever\n",
    "from google.cloud.discoveryengine import SearchServiceClient \n",
    "from langchain.tools import Tool \n",
    "from langchain.tools.retriever import create_retriever_tool\n",
    "from langchain_groq import ChatGroq \n",
    "\n",
    "retriever = VertexAIMultiTurnSearchRetriever(\n",
    "    project_id=PROJECT_ID, location_id=LOCATION_ID, data_store_id=DATA_STORE_ID,get_extractive_answers=False) \n",
    "retriever2 = VertexAIMultiTurnSearchRetriever(project_id = PROJECT_ID,location_id = LOCATION_ID, data_store_id = DATA_STORE_ID2,get_extractive_answers=False)\n",
    "retriever3 = VertexAIMultiTurnSearchRetriever(project_id = PROJECT_ID,location_id = LOCATION_ID4, data_store_id = DATA_STORE_ID4,get_extractive_answers=False)\n",
    "\n",
    "retriever_tool_1 = create_retriever_tool(\n",
    "    retriever,\n",
    "    \"retrieve_amway_blog_posts\",\n",
    "    \"Search and return information about Amway US blog posts on Face serum guide, gut reset and gut health.\",\n",
    ")\n",
    "retriever_tool_2 = create_retriever_tool(\n",
    "    retriever2,\n",
    "    \"retrieve_WHO_posts\",\n",
    "    \"Search and return information from the WHO articles. \",\n",
    ")\n",
    "\n",
    "retriever_tool_3 = create_retriever_tool(\n",
    "    retriever3,\n",
    "    \"amway_sales_plan\",\n",
    "    \"Search and return information from the amway core sales plan documnents\",\n",
    ")\n",
    "\n",
    "tools = [retriever_tool_1,retriever_tool_3] \n"
   ]
  },
  {
   "cell_type": "code",
   "execution_count": 3,
   "metadata": {},
   "outputs": [
    {
     "name": "stderr",
     "output_type": "stream",
     "text": [
      "/Users/mannugaddhyan/Downloads/dpds-health-wellness-api/mannu2/lib/python3.12/site-packages/sentence_transformers/cross_encoder/CrossEncoder.py:13: TqdmWarning: IProgress not found. Please update jupyter and ipywidgets. See https://ipywidgets.readthedocs.io/en/stable/user_install.html\n",
      "  from tqdm.autonotebook import tqdm, trange\n"
     ]
    }
   ],
   "source": [
    "from concurrent.futures import ThreadPoolExecutor, as_completed\n",
    "from langchain.tools.retriever import create_retriever_tool\n",
    "from langchain.schema import Document\n",
    "from typing import List, Dict\n",
    "import numpy as np\n",
    "from sentence_transformers import SentenceTransformer\n",
    "from typing import List, Dict, Union \n",
    "model = SentenceTransformer('all-MiniLM-L6-v2') \n",
    "\n",
    "def retrieve_from_tool(tool, query: str) -> List[Union[Document, str]]:\n",
    "    return tool.invoke({\"query\": query})\n",
    "\n",
    "def compute_similarity(query_embedding, doc_embedding):\n",
    "    return np.dot(query_embedding, doc_embedding) / (np.linalg.norm(query_embedding) * np.linalg.norm(doc_embedding))\n",
    "\n",
    "def get_content(doc: Union[Document, str]) -> str:\n",
    "    if isinstance(doc, Document):\n",
    "        return doc.page_content\n",
    "    return doc  # If it's already a string, return it as is\n",
    "\n",
    "def rank_documents(docs: List[Union[Document, str]], query: str) -> List[Union[Document, str]]:\n",
    "    query_embedding = model.encode([query])[0]\n",
    "    \n",
    "    doc_similarities = []\n",
    "    for doc in docs:\n",
    "        content = get_content(doc)\n",
    "        doc_embedding = model.encode([content])[0]\n",
    "        similarity = compute_similarity(query_embedding, doc_embedding)\n",
    "        doc_similarities.append((similarity, doc))\n",
    "    \n",
    "    # Sort documents by similarity score in descending order\n",
    "    ranked_docs = [doc for _, doc in sorted(doc_similarities, key=lambda x: x[0], reverse=True)]\n",
    "    return ranked_docs\n",
    "\n"
   ]
  },
  {
   "cell_type": "code",
   "execution_count": 4,
   "metadata": {},
   "outputs": [],
   "source": [
    "from typing import Annotated, Sequence\n",
    "from typing_extensions import TypedDict\n",
    "\n",
    "from langchain_core.messages import BaseMessage\n",
    "\n",
    "from langgraph.graph.message import add_messages\n",
    "from typing import Annotated, Literal, Sequence, Optional, Dict, Any\n",
    "from typing_extensions import TypedDict\n",
    "\n",
    "from langchain import hub\n",
    "from langchain_core.messages import BaseMessage, HumanMessage\n",
    "from langchain_core.output_parsers import StrOutputParser\n",
    "from langchain_core.prompts import PromptTemplate\n",
    "from langchain_openai import ChatOpenAI\n",
    "\n",
    "from pydantic import BaseModel, Field\n",
    "\n",
    "\n",
    "from langgraph.prebuilt import tools_condition\n",
    "from langgraph.graph import END, StateGraph, START\n",
    "from langgraph.prebuilt import ToolNode\n",
    "import pprint\n",
    "from rich import print\n",
    "import time\n",
    "class ImageInput(BaseModel):\n",
    "    \"\"\"Represents an uploaded image.\"\"\"\n",
    "    filename: str\n",
    "\n",
    "class UserInput(BaseModel):\n",
    "    \"\"\"Represents user input, which can include text and/or an image.\"\"\"\n",
    "    text: str\n",
    "    image: Optional[ImageInput] = None\n",
    "\n",
    "class AgentState(TypedDict):\n",
    "    messages: Annotated[Sequence[BaseMessage], add_messages]\n",
    "    retrieved_docs: str\n",
    "    user_input: UserInput\n"
   ]
  },
  {
   "cell_type": "code",
   "execution_count": 5,
   "metadata": {},
   "outputs": [],
   "source": [
    "import requests\n",
    "\n",
    "def get_token(auth_url, client_id, client_secret):\n",
    "    auth_data = {\n",
    "        \"grant_type\": \"client_credentials\",\n",
    "        \"client_secret\": client_secret,\n",
    "        \"client_id\": client_id\n",
    "    }\n",
    "    response = requests.post(auth_url, json=auth_data)\n",
    "    response.raise_for_status()\n",
    "    token = response.json().get(\"access_token\")\n",
    "    return token"
   ]
  },
  {
   "cell_type": "code",
   "execution_count": 6,
   "metadata": {},
   "outputs": [],
   "source": [
    "def process_input(state):\n",
    "    \"\"\"\n",
    "    Process the initial user input, which may include both text and an image.\n",
    "    \"\"\"\n",
    "    print(\"---PROCESS INPUT---\")\n",
    "    user_input = state[\"user_input\"]\n",
    "    \n",
    "    # Create a message that includes information about the image if present\n",
    "    content = user_input.text\n",
    "    if user_input.image:\n",
    "        content += f\"\\n[Attached image: {user_input.image.filename}]\"\n",
    "    \n",
    "    return {\n",
    "        \"messages\": [HumanMessage(content=content)],\n",
    "        \"user_input\": user_input\n",
    "    }\n",
    "\n",
    "\n",
    "# def retrieve(state):\n",
    "#     print(\"---RETRIEVE DOCUMENTS---\")\n",
    "#     messages = state[\"messages\"]\n",
    "#     question = messages[0].content\n",
    "#     # Use the correct input format for the retriever tool\n",
    "#     docs = retriever_tool.invoke({\"query\": question})\n",
    "#     return {\"retrieved_docs\": docs}\n",
    "\n",
    "def retrieve(state: Dict) -> Dict:\n",
    "    print(\"---RETRIEVE DOCUMENTS---\")\n",
    "    messages = state[\"messages\"]\n",
    "    question = messages[0].content\n",
    "    with ThreadPoolExecutor(max_workers=len(tools)) as executor:\n",
    "        future_to_tool = {executor.submit(retrieve_from_tool, tool, question): tool for tool in tools}\n",
    "        all_docs = []\n",
    "        for future in as_completed(future_to_tool):\n",
    "            tool = future_to_tool[future]\n",
    "            try:\n",
    "                docs = future.result()\n",
    "                #print(\"docs\",docs)\n",
    "                all_docs.append(docs)\n",
    "            except Exception as exc:\n",
    "                print(f'{tool} generated an exception: {exc}')\n",
    "\n",
    "    # Rank and filter the documents\n",
    "    #print(\"all docs\",all_docs)\n",
    "    ranked_docs = rank_documents(all_docs, question)\n",
    "    \n",
    "    # Return top N documents (adjust N as needed)\n",
    "    top_n = 5\n",
    "    #print(\"The ranked docs\",ranked_docs[:top_n])\n",
    "    return {\"retrieved_docs\": ranked_docs[:top_n]}\n",
    "\n",
    "\n",
    "def grade_documents(state) -> Literal[\"generate\", \"analyze_meal_question\"]:\n",
    "    \"\"\"\n",
    "    Determines whether the retrieved documents are relevant to the question.\n",
    "\n",
    "    Args:\n",
    "        state (messages): The current state\n",
    "\n",
    "    Returns:\n",
    "        str: A decision for whether the documents are relevant or not\n",
    "    \"\"\"\n",
    "\n",
    "    print(\"---CHECK RELEVANCE---\")\n",
    "    \n",
    "\n",
    "    # Data model\n",
    "    class grade(BaseModel):\n",
    "        \"\"\"Binary score for relevance check.\"\"\"\n",
    "\n",
    "        binary_score: str = Field(description=\"Relevance score 'yes' or 'no'\")\n",
    "\n",
    "    # LLM\n",
    "    model = ChatOpenAI(temperature=0, model=\"gpt-4-0125-preview\", streaming=True)\n",
    "    model = ChatGroq(model = \"gemma2-9b-it\", temperature = 0,streaming=True)\n",
    "    # LLM with tool and validation\n",
    "    llm_with_tool = model.with_structured_output(grade)\n",
    "\n",
    "    # Prompt\n",
    "    prompt = PromptTemplate(\n",
    "        template=\"\"\"You are a grader assessing relevance of a retrieved document to a user question. \\n \n",
    "        Here is the retrieved document: \\n\\n {context} \\n\\n\n",
    "        Here is the user question: {question} \\n\n",
    "        If the document contains keyword(s) or semantic meaning related to the user question, grade it as relevant. \\n\n",
    "        Give a binary score 'yes' or 'no' score to indicate whether the document is relevant to the question.\"\"\",\n",
    "        input_variables=[\"context\", \"question\"],\n",
    "    )\n",
    "\n",
    "    # Chain\n",
    "    chain = prompt | llm_with_tool\n",
    "\n",
    "    messages = state[\"messages\"]\n",
    "    last_message = messages[-1]\n",
    "\n",
    "    question = state[\"messages\"][0].content\n",
    "    docs = state[\"retrieved_docs\"]\n",
    "    print(\"docs\",docs)\n",
    "    scored_result = chain.invoke({\"question\": question, \"context\": docs})\n",
    "\n",
    "    score = scored_result.binary_score\n",
    "\n",
    "    if score == \"yes\":\n",
    "        print(\"---DECISION: DOCS RELEVANT---\")\n",
    "        return {\"messages\": [HumanMessage(content=\"Documents are relevant.\")]}\n",
    "        return { \"generate\": \"generate\"}\n",
    "\n",
    "    else:\n",
    "        print(\"---DECISION: DOCS NOT RELEVANT---\")\n",
    "        print(score)\n",
    "        return {\"messages\": [HumanMessage(content=\"Documents are not relevant, So now we check for if it releated to mela-plate or not?\")]}\n",
    "        return {\"incorrect_question\":\"incorrect_question\"}\n",
    "    \n",
    "def generate(state):\n",
    "    \"\"\"\n",
    "    Generate answer based on retrieved documents.\n",
    "    \"\"\"\n",
    "    print(\"---GENERATE ANSWER---\")\n",
    "    question = state[\"messages\"][0].content\n",
    "    docs = state[\"retrieved_docs\"]\n",
    "\n",
    "    model = ChatOpenAI(model_name=\"gpt-3.5-turbo\", temperature=0)\n",
    "    model = ChatGroq(model = \"gemma2-9b-it\", temperature = 0)\n",
    "    prompt = hub.pull(\"rlm/rag-prompt\")\n",
    "    chain = prompt | model | StrOutputParser()\n",
    "\n",
    "    response = chain.invoke({\"context\": docs, \"question\": question})\n",
    "    return {\"messages\": [HumanMessage(content=response)]}\n",
    "\n",
    "# def generate(state):\n",
    "#     \"\"\"\n",
    "#     Generate answer based on retrieved documents, including source citations.\n",
    "#     \"\"\"\n",
    "#     print(\"---GENERATE ANSWER---\")\n",
    "#     question = state[\"messages\"][0].content\n",
    "#     docs = state[\"retrieved_docs\"]\n",
    "    \n",
    "#     # Extract source information from documents\n",
    "#     sources = []\n",
    "#     for doc in docs:\n",
    "#         if hasattr(doc, 'metadata'):\n",
    "#             source = doc.metadata.get('source', '')\n",
    "#             if source and source not in sources:\n",
    "#                 sources.append(source)\n",
    "    \n",
    "#     model = ChatOpenAI(model_name=\"gpt-3.5-turbo\", temperature=0)\n",
    "    \n",
    "#     # Update the prompt to request source citations\n",
    "#     prompt = PromptTemplate(\n",
    "#         template=\"\"\"Based on the following context, answer the user's question. \n",
    "#         Include relevant source citations in your response using [Source X] format, \n",
    "#         where X corresponds to the source number in the sources list provided below.\n",
    "        \n",
    "#         Context: {context}\n",
    "        \n",
    "#         Sources:\n",
    "#         {sources}\n",
    "        \n",
    "#         Question: {question}\n",
    "        \n",
    "#         Remember to cite your sources using [Source X] format when providing information.\"\"\",\n",
    "#         input_variables=[\"context\", \"question\", \"sources\"]\n",
    "#     )\n",
    "    \n",
    "#     # Format sources list for the prompt\n",
    "#     formatted_sources = \"\\n\".join([f\"{i+1}. {source}\" for i, source in enumerate(sources)])\n",
    "    \n",
    "#     chain = prompt | model | StrOutputParser()\n",
    "\n",
    "#     response = chain.invoke({\n",
    "#         \"context\": docs, \n",
    "#         \"question\": question,\n",
    "#         \"sources\": formatted_sources\n",
    "#     })\n",
    "    \n",
    "#     # Append sources list to the response\n",
    "#     if sources:\n",
    "#         response += \"\\n\\nSources:\\n\" + \"\\n\".join([f\"{i+1}. {source}\" for i, source in enumerate(sources)])\n",
    "    \n",
    "#     return {\"messages\": [HumanMessage(content=response)]}\n",
    "\n",
    "\n",
    "def incorrect_question(state):\n",
    "    \"\"\"\n",
    "    Handle case when the question is deemed incorrect or irrelevant.\n",
    "    \"\"\"\n",
    "    print(\"---INCORRECT QUESTION---\")\n",
    "    return {\"messages\": [HumanMessage(content=\"The question appears to be incorrect or irrelevant to the available information.\")]}\n",
    "\n",
    "\n",
    "def analyze_meal_question(state) -> Literal[\"meal_image_scan\", \"meal_text_scan\", \"barcode\", \"incorrect_question\"]:\n",
    "    \"\"\"\n",
    "    Analyzes the user's question to determine if it's related to meal plate analysis\n",
    "    and what type of API call is needed.\n",
    "\n",
    "    Args:\n",
    "        state (dict): The current state\n",
    "\n",
    "    Returns:\n",
    "        dict: An updated state with the decision\n",
    "    \"\"\"\n",
    "    print(\"---ANALYZE MEAL QUESTION---\")\n",
    "\n",
    "    class QuestionAnalysis(BaseModel):\n",
    "        \"\"\"Analysis result for the user's question.\"\"\"\n",
    "        is_meal_related: bool = Field(description=\"Whether the question is related to meal analysis\")\n",
    "        api_call_type: str = Field(description=\"Type of API call needed: 'image_scan', 'text_query', 'barcode_scan', or 'none'\")\n",
    "\n",
    "    model = ChatOpenAI(temperature=0, model=\"gpt-4-0125-preview\", streaming=True)\n",
    "    model = ChatGroq(model = \"gemma2-9b-it\", temperature = 0,streaming = True)\n",
    "    llm_with_tool = model.with_structured_output(QuestionAnalysis)\n",
    "\n",
    "    prompt = PromptTemplate(\n",
    "        template=\"\"\"Analyze the following user question related to meal plate analysis:\n",
    "\n",
    "        User Question: {question}\n",
    "\n",
    "        Determine if the question is related to meal plate analysis and what type of API call is needed.\n",
    "        The question is meal-related if it asks about food items, nutritional information, or involves analyzing a meal image or barcode.\n",
    "\n",
    "        Possible API call types:\n",
    "        1. 'image_scan': If the question involves analyzing an image of food.\n",
    "        2. 'text_query': If the question is about specific food items or nutritional information.\n",
    "        3. 'barcode_scan': If the question involves scanning a barcode.\n",
    "        4. 'none': If the question is not related to meal analysis.\n",
    "\n",
    "        Provide your analysis as a JSON object with two fields:\n",
    "        1. 'is_meal_related': A boolean indicating if the question is related to meal analysis.\n",
    "        2. 'api_call_type': A string indicating the type of API call needed ('image_scan', 'text_query', 'barcode_scan', or 'none').\n",
    "        \"\"\",\n",
    "        input_variables=[\"question\"],\n",
    "    )\n",
    "\n",
    "    chain = prompt | llm_with_tool\n",
    "\n",
    "    question = state[\"messages\"][0].content\n",
    "    user_input = state[\"user_input\"]\n",
    "    analysis_result = chain.invoke({\"question\": question})\n",
    "\n",
    "    if analysis_result.is_meal_related:\n",
    "        if analysis_result.api_call_type == \"image_scan\" and user_input.image:\n",
    "            return {\"messages\": [HumanMessage(content=\"image scan required.\")]}\n",
    "        elif analysis_result.api_call_type == \"text_query\":\n",
    "            return {\"messages\": [HumanMessage(content=\"text query required.\")]}\n",
    "        elif analysis_result.api_call_type == \"barcode_scan\" and user_input.image:\n",
    "            return {\"messages\": [HumanMessage(content=\"Barcode scan required.\")]}\n",
    "    \n",
    "    return {\"messages\": [HumanMessage(content=\"Question is not related to meal analysis.\")]}\n",
    "\n",
    "def evaluate_api_response(api_response: Dict[str, Any], user_question: str) -> str:\n",
    "    \"\"\"\n",
    "    Evaluate the API response based on the user's question.\n",
    "    \"\"\"\n",
    "    \n",
    "    model = ChatOpenAI(temperature=0, model=\"gpt-4-0125-preview\")\n",
    "    model = ChatGroq(model = \"gemma2-9b-it\", temperature = 0)\n",
    "    prompt = PromptTemplate(\n",
    "        template=\"\"\"\n",
    "        You are provided with a proper response from the llm which is in form of a dictonary in {meal_analysis} \n",
    "        Now your role as a very professional analyst is to analyse this response and provide imformation which the user is seeking in his/her question.\n",
    "        Please don't try to analyze the image only focus on the api_response which is being passed to you. \n",
    "\n",
    "        Meal Analysis: {meal_analysis}\n",
    "\n",
    "        User Question: {user_question}\n",
    "\n",
    "        Please provide a concise answer addressing the user's question based on the meal analysis results.\n",
    "        \"\"\",\n",
    "        input_variables=[\"meal_analysis\", \"user_question\"]\n",
    "    )\n",
    "    chain = prompt | model | StrOutputParser() \n",
    "    result = chain.invoke({\"meal_analysis\": str(api_response), \"user_question\": user_question})\n",
    "    return result\n",
    "\n",
    "\n",
    "def meal_image_scan(state):\n",
    "    \"\"\"\n",
    "    Handle case when the question is deemed incorrect or irrelevant.\n",
    "    \"\"\"\n",
    "    print(\"---Scanning the image---\")\n",
    "    user_input = state[\"user_input\"]\n",
    "    user_question = state[\"messages\"][0].content\n",
    "    if user_input.image:\n",
    "        TOKEN = get_token(\"https://api-dv.amwayglobal.com/rest/oauth2/v1/token\",\"3hmyXKbHlA0ZLJ1Zjtg4G1X0l4srn0jIolK7pzB4EqiqBb1M\",\"9Trey6amtSaRifSzU1HM2UlirkSLojkBCa0xWA51nUkyFeoGFFfVKWEuGdV8pNbu\")\n",
    "        headers_o = {\n",
    "                    \"Authorization\": f\"Bearer {TOKEN}\",\n",
    "                    \"x-hw-program\": \"mg_testing\",\n",
    "                    \"x-abold\": \"mg_abo\",\n",
    "                    \"x-mealtime\": \"\",\n",
    "                    \"x-genai-vendor\": \"openai\",\n",
    "                    \"x-country-code\": \"mg_testing\"\n",
    "                }\n",
    "        with open(user_input.image.filename, 'rb') as img_file:\n",
    "                print(img_file)\n",
    "                files = {'meal_image': img_file}\n",
    "                response = requests.post(\"https://api-dv.amwayglobal.com/v1/health-wellbeing/mealanalyzer/meal-scan\", headers=headers_o, files=files, data={})\n",
    "                \n",
    "                #print(\"the response:\",response.json())\n",
    "                answer = evaluate_api_response(response.json(), user_question)\n",
    "                return {\"messages\": [HumanMessage(content=answer)]}\n",
    "    else:\n",
    "        return {\"messages\": [HumanMessage(content=\"No image provided for analysis.\")]}\n",
    "\n",
    "def meal_text_scan(state):\n",
    "    \"\"\"\n",
    "    Handle case when the question is deemed incorrect or irrelevant.\n",
    "    \"\"\"\n",
    "    print(\"---Text scan --\")\n",
    "    user_input = state[\"user_input\"] \n",
    "    user_question = state[\"messages\"][0].content \n",
    "    data = {'meal_description': user_input.text}\n",
    "    TOKEN = get_token(\"https://api-dv.amwayglobal.com/rest/oauth2/v1/token\",\"3hmyXKbHlA0ZLJ1Zjtg4G1X0l4srn0jIolK7pzB4EqiqBb1M\",\"9Trey6amtSaRifSzU1HM2UlirkSLojkBCa0xWA51nUkyFeoGFFfVKWEuGdV8pNbu\")\n",
    "    headers_o = {\n",
    "                    \"Authorization\": f\"Bearer {TOKEN}\",\n",
    "                    \"x-hw-program\": \"mg_testing\",\n",
    "                    \"x-abold\": \"mg_abo\",\n",
    "                    \"x-mealtime\": \"\",\n",
    "                    \"x-genai-vendor\": \"openai\",\n",
    "                    \"x-country-code\": \"mg_testing\"\n",
    "                }\n",
    "    response = requests.post(\"https://api-dv.amwayglobal.com/v1/health-wellbeing/mealanalyzer/meal-scan\", headers=headers_o, files={}, data=data)\n",
    "    answer = evaluate_api_response(response.json(), user_question)\n",
    "    return {\"messages\": [HumanMessage(content=answer)]}\n",
    "\n",
    "def barcode(state):\n",
    "    \"\"\"\n",
    "    Handle case when the question is deemed incorrect or irrelevant.\n",
    "    \"\"\"\n",
    "    print(\"---Barcode---\")\n",
    "    user_input = state[\"user_input\"]\n",
    "    user_question = state[\"messages\"][0].content\n",
    "    if user_input.image:\n",
    "        TOKEN = get_token(\"https://api-dv.amwayglobal.com/rest/oauth2/v1/token\",\"3hmyXKbHlA0ZLJ1Zjtg4G1X0l4srn0jIolK7pzB4EqiqBb1M\",\"9Trey6amtSaRifSzU1HM2UlirkSLojkBCa0xWA51nUkyFeoGFFfVKWEuGdV8pNbu\")\n",
    "        headers_o = {\n",
    "                    \"Authorization\": f\"Bearer {TOKEN}\",\n",
    "                    \"x-hw-program\": \"mg_testing\",\n",
    "                    \"x-abold\": \"mg_abo\",\n",
    "                    \"x-mealtime\": \"\",\n",
    "                    \"x-genai-vendor\": \"openai\",\n",
    "        }\n",
    "        with open(user_input.image.filename, 'rb') as img_file:\n",
    "            upc_file = {'image': img_file}\n",
    "            response = requests.post(\"https://api-dv.amwayglobal.com/v1/health-wellbeing/mealanalyzer/upc\", files=upc_file, headers=headers_o, data={})\n",
    "            answer = evaluate_api_response(response.json(), user_question)\n",
    "            return {\"messages\": [HumanMessage(content=answer)]}\n",
    "    else:\n",
    "        return {\"messages\": [HumanMessage(content=\"No image provided for analysis.\")]}\n",
    "\n",
    "\n",
    "# Define the graph\n",
    "workflow = StateGraph(AgentState)\n",
    "\n",
    "# Add nodes\n",
    "workflow.add_node(\"retrieve\", retrieve)\n",
    "workflow.add_node(\"grade_documents\", grade_documents)\n",
    "workflow.add_node(\"generate\", generate)\n",
    "workflow.add_node(\"incorrect_question\", incorrect_question)\n",
    "workflow.add_node(\"analyze_meal_question\", analyze_meal_question) \n",
    "workflow.add_node(\"meal_image_scan\",meal_image_scan)\n",
    "workflow.add_node(\"meal_text_scan\",meal_text_scan)\n",
    "workflow.add_node(\"barcode\",barcode)\n",
    "workflow.add_node(\"process_input\",process_input)\n",
    "# Define edges\n",
    "workflow.set_entry_point(\"process_input\")\n",
    "workflow.add_edge(\"process_input\",\"retrieve\")\n",
    "workflow.add_edge(\"retrieve\", \"grade_documents\")\n",
    "\n",
    "\n",
    "workflow.add_conditional_edges(\n",
    "    \"grade_documents\",\n",
    "    lambda x: \"generate\" if x[\"messages\"][-1].content == \"Documents are relevant.\" else \"analyze_meal_question\",\n",
    "    {\n",
    "        \"generate\": \"generate\",\n",
    "        \"analyze_meal_question\": \"analyze_meal_question\"\n",
    "    }\n",
    ")\n",
    "\n",
    "workflow.add_conditional_edges(\n",
    "    \"analyze_meal_question\",\n",
    "    lambda x: x[\"messages\"][-1].content.split()[0].lower(),\n",
    "    {\n",
    "        \"image\": \"meal_image_scan\",\n",
    "        \"text\":\"meal_text_scan\",\n",
    "        \"barcode\": \"barcode\",\n",
    "        \"question\": \"incorrect_question\"\n",
    "    }\n",
    ")\n",
    "\n",
    "workflow.add_edge(\"generate\", END)\n",
    "workflow.add_edge(\"incorrect_question\", END)\n",
    "workflow.add_edge(\"meal_image_scan\",END)\n",
    "workflow.add_edge(\"meal_text_scan\",END)\n",
    "workflow.add_edge(\"barcode\",END)\n",
    "\n",
    "# Compile the graph\n",
    "graph = workflow.compile()\n",
    "\n"
   ]
  },
  {
   "cell_type": "code",
   "execution_count": 9,
   "metadata": {},
   "outputs": [
    {
     "data": {
      "text/html": [
       "<pre style=\"white-space:pre;overflow-x:auto;line-height:normal;font-family:Menlo,'DejaVu Sans Mono',consolas,'Courier New',monospace\">---PROCESS INPUT---\n",
       "</pre>\n"
      ],
      "text/plain": [
       "---PROCESS INPUT---\n"
      ]
     },
     "metadata": {},
     "output_type": "display_data"
    },
    {
     "data": {
      "text/html": [
       "<pre style=\"white-space:pre;overflow-x:auto;line-height:normal;font-family:Menlo,'DejaVu Sans Mono',consolas,'Courier New',monospace\">Output from node <span style=\"color: #008000; text-decoration-color: #008000\">'process_input'</span>:\n",
       "</pre>\n"
      ],
      "text/plain": [
       "Output from node \u001b[32m'process_input'\u001b[0m:\n"
      ]
     },
     "metadata": {},
     "output_type": "display_data"
    },
    {
     "data": {
      "text/html": [
       "<pre style=\"white-space:pre;overflow-x:auto;line-height:normal;font-family:Menlo,'DejaVu Sans Mono',consolas,'Courier New',monospace\">---\n",
       "</pre>\n"
      ],
      "text/plain": [
       "---\n"
      ]
     },
     "metadata": {},
     "output_type": "display_data"
    },
    {
     "data": {
      "text/html": [
       "<pre style=\"white-space:pre;overflow-x:auto;line-height:normal;font-family:Menlo,'DejaVu Sans Mono',consolas,'Courier New',monospace\"><span style=\"font-weight: bold\">{</span>\n",
       "    <span style=\"color: #008000; text-decoration-color: #008000\">'messages'</span>: <span style=\"font-weight: bold\">[</span>\n",
       "        <span style=\"color: #800080; text-decoration-color: #800080; font-weight: bold\">HumanMessage</span><span style=\"font-weight: bold\">(</span>\n",
       "            <span style=\"color: #808000; text-decoration-color: #808000\">content</span>=<span style=\"color: #008000; text-decoration-color: #008000\">'identify all the  foods in this image?  \\n[Attached image: paav.jpg]'</span>,\n",
       "            <span style=\"color: #808000; text-decoration-color: #808000\">additional_kwargs</span>=<span style=\"font-weight: bold\">{}</span>,\n",
       "            <span style=\"color: #808000; text-decoration-color: #808000\">response_metadata</span>=<span style=\"font-weight: bold\">{}</span>,\n",
       "            <span style=\"color: #808000; text-decoration-color: #808000\">id</span>=<span style=\"color: #008000; text-decoration-color: #008000\">'36247cd3-d23b-4a5e-b6fa-101ef51682a9'</span>\n",
       "        <span style=\"font-weight: bold\">)</span>\n",
       "    <span style=\"font-weight: bold\">]</span>,\n",
       "    <span style=\"color: #008000; text-decoration-color: #008000\">'user_input'</span>: <span style=\"color: #800080; text-decoration-color: #800080; font-weight: bold\">UserInput</span><span style=\"font-weight: bold\">(</span>\n",
       "        <span style=\"color: #808000; text-decoration-color: #808000\">text</span>=<span style=\"color: #008000; text-decoration-color: #008000\">'identify all the  foods in this image?  '</span>,\n",
       "        <span style=\"color: #808000; text-decoration-color: #808000\">image</span>=<span style=\"color: #800080; text-decoration-color: #800080; font-weight: bold\">ImageInput</span><span style=\"font-weight: bold\">(</span><span style=\"color: #808000; text-decoration-color: #808000\">filename</span>=<span style=\"color: #008000; text-decoration-color: #008000\">'paav.jpg'</span><span style=\"font-weight: bold\">)</span>\n",
       "    <span style=\"font-weight: bold\">)</span>\n",
       "<span style=\"font-weight: bold\">}</span>\n",
       "</pre>\n"
      ],
      "text/plain": [
       "\u001b[1m{\u001b[0m\n",
       "    \u001b[32m'messages'\u001b[0m: \u001b[1m[\u001b[0m\n",
       "        \u001b[1;35mHumanMessage\u001b[0m\u001b[1m(\u001b[0m\n",
       "            \u001b[33mcontent\u001b[0m=\u001b[32m'identify all the  foods in this image?  \\n\u001b[0m\u001b[32m[\u001b[0m\u001b[32mAttached image: paav.jpg\u001b[0m\u001b[32m]\u001b[0m\u001b[32m'\u001b[0m,\n",
       "            \u001b[33madditional_kwargs\u001b[0m=\u001b[1m{\u001b[0m\u001b[1m}\u001b[0m,\n",
       "            \u001b[33mresponse_metadata\u001b[0m=\u001b[1m{\u001b[0m\u001b[1m}\u001b[0m,\n",
       "            \u001b[33mid\u001b[0m=\u001b[32m'36247cd3-d23b-4a5e-b6fa-101ef51682a9'\u001b[0m\n",
       "        \u001b[1m)\u001b[0m\n",
       "    \u001b[1m]\u001b[0m,\n",
       "    \u001b[32m'user_input'\u001b[0m: \u001b[1;35mUserInput\u001b[0m\u001b[1m(\u001b[0m\n",
       "        \u001b[33mtext\u001b[0m=\u001b[32m'identify all the  foods in this image?  '\u001b[0m,\n",
       "        \u001b[33mimage\u001b[0m=\u001b[1;35mImageInput\u001b[0m\u001b[1m(\u001b[0m\u001b[33mfilename\u001b[0m=\u001b[32m'paav.jpg'\u001b[0m\u001b[1m)\u001b[0m\n",
       "    \u001b[1m)\u001b[0m\n",
       "\u001b[1m}\u001b[0m\n"
      ]
     },
     "metadata": {},
     "output_type": "display_data"
    },
    {
     "data": {
      "text/html": [
       "<pre style=\"white-space:pre;overflow-x:auto;line-height:normal;font-family:Menlo,'DejaVu Sans Mono',consolas,'Courier New',monospace\">\n",
       "---\n",
       "\n",
       "</pre>\n"
      ],
      "text/plain": [
       "\n",
       "---\n",
       "\n"
      ]
     },
     "metadata": {},
     "output_type": "display_data"
    },
    {
     "data": {
      "text/html": [
       "<pre style=\"white-space:pre;overflow-x:auto;line-height:normal;font-family:Menlo,'DejaVu Sans Mono',consolas,'Courier New',monospace\">---RETRIEVE DOCUMENTS---\n",
       "</pre>\n"
      ],
      "text/plain": [
       "---RETRIEVE DOCUMENTS---\n"
      ]
     },
     "metadata": {},
     "output_type": "display_data"
    },
    {
     "data": {
      "text/html": [
       "<pre style=\"white-space:pre;overflow-x:auto;line-height:normal;font-family:Menlo,'DejaVu Sans Mono',consolas,'Courier New',monospace\"><span style=\"color: #808000; text-decoration-color: #808000\">name</span>=<span style=\"color: #008000; text-decoration-color: #008000\">'amway_sales_plan'</span> <span style=\"color: #808000; text-decoration-color: #808000\">description</span>=<span style=\"color: #008000; text-decoration-color: #008000\">'Search and return information from the amway core sales plan documnents'</span> \n",
       "<span style=\"color: #808000; text-decoration-color: #808000\">args_schema</span>=<span style=\"font-weight: bold\">&lt;</span><span style=\"color: #ff00ff; text-decoration-color: #ff00ff; font-weight: bold\">class</span><span style=\"color: #000000; text-decoration-color: #000000\"> </span><span style=\"color: #008000; text-decoration-color: #008000\">'langchain_core.tools.retriever.RetrieverInput'</span><span style=\"color: #000000; text-decoration-color: #000000\">&gt; </span><span style=\"color: #808000; text-decoration-color: #808000\">func</span><span style=\"color: #000000; text-decoration-color: #000000\">=</span><span style=\"color: #800080; text-decoration-color: #800080; font-weight: bold\">functools</span><span style=\"color: #800080; text-decoration-color: #800080; font-weight: bold\">.partial</span><span style=\"color: #000000; text-decoration-color: #000000; font-weight: bold\">(</span><span style=\"color: #000000; text-decoration-color: #000000\">&lt;function </span>\n",
       "<span style=\"color: #000000; text-decoration-color: #000000\">_get_relevant_documents at </span><span style=\"color: #008080; text-decoration-color: #008080; font-weight: bold\">0x117255da0</span><span style=\"color: #000000; text-decoration-color: #000000\">&gt;, </span>\n",
       "<span style=\"color: #808000; text-decoration-color: #808000\">retriever</span><span style=\"color: #000000; text-decoration-color: #000000\">=</span><span style=\"color: #800080; text-decoration-color: #800080; font-weight: bold\">VertexAIMultiTurnSearchRetriever</span><span style=\"color: #000000; text-decoration-color: #000000; font-weight: bold\">(</span><span style=\"color: #808000; text-decoration-color: #808000\">project_id</span><span style=\"color: #000000; text-decoration-color: #000000\">=</span><span style=\"color: #008000; text-decoration-color: #008000\">'amw-dna-coe-working-ds-dev'</span><span style=\"color: #000000; text-decoration-color: #000000\">, </span>\n",
       "<span style=\"color: #808000; text-decoration-color: #808000\">data_store_id</span><span style=\"color: #000000; text-decoration-color: #000000\">=</span><span style=\"color: #008000; text-decoration-color: #008000\">'core-plan-document-of-record_1728023514692'</span><span style=\"color: #000000; text-decoration-color: #000000\">, </span><span style=\"color: #808000; text-decoration-color: #808000\">location_id</span><span style=\"color: #000000; text-decoration-color: #000000\">=</span><span style=\"color: #008000; text-decoration-color: #008000\">'us'</span><span style=\"color: #000000; text-decoration-color: #000000; font-weight: bold\">)</span><span style=\"color: #000000; text-decoration-color: #000000\">, </span>\n",
       "<span style=\"color: #808000; text-decoration-color: #808000\">document_prompt</span><span style=\"color: #000000; text-decoration-color: #000000\">=</span><span style=\"color: #800080; text-decoration-color: #800080; font-weight: bold\">PromptTemplate</span><span style=\"color: #000000; text-decoration-color: #000000; font-weight: bold\">(</span><span style=\"color: #808000; text-decoration-color: #808000\">input_variables</span><span style=\"color: #000000; text-decoration-color: #000000\">=</span><span style=\"color: #000000; text-decoration-color: #000000; font-weight: bold\">[</span><span style=\"color: #008000; text-decoration-color: #008000\">'page_content'</span><span style=\"color: #000000; text-decoration-color: #000000; font-weight: bold\">]</span><span style=\"color: #000000; text-decoration-color: #000000\">, </span><span style=\"color: #808000; text-decoration-color: #808000\">input_types</span><span style=\"color: #000000; text-decoration-color: #000000\">=</span><span style=\"color: #000000; text-decoration-color: #000000; font-weight: bold\">{}</span><span style=\"color: #000000; text-decoration-color: #000000\">, </span><span style=\"color: #808000; text-decoration-color: #808000\">partial_variables</span><span style=\"color: #000000; text-decoration-color: #000000\">=</span><span style=\"color: #000000; text-decoration-color: #000000; font-weight: bold\">{}</span><span style=\"color: #000000; text-decoration-color: #000000\">, </span>\n",
       "<span style=\"color: #808000; text-decoration-color: #808000\">template</span><span style=\"color: #000000; text-decoration-color: #000000\">=</span><span style=\"color: #008000; text-decoration-color: #008000\">'{page_content}'</span><span style=\"color: #000000; text-decoration-color: #000000; font-weight: bold\">)</span><span style=\"color: #000000; text-decoration-color: #000000\">, </span><span style=\"color: #808000; text-decoration-color: #808000\">document_separator</span><span style=\"color: #000000; text-decoration-color: #000000\">=</span><span style=\"color: #008000; text-decoration-color: #008000\">'\\n\\n'</span><span style=\"color: #000000; text-decoration-color: #000000; font-weight: bold\">)</span><span style=\"color: #000000; text-decoration-color: #000000\"> </span><span style=\"color: #808000; text-decoration-color: #808000\">coroutine</span><span style=\"color: #000000; text-decoration-color: #000000\">=</span><span style=\"color: #800080; text-decoration-color: #800080; font-weight: bold\">functools</span><span style=\"color: #800080; text-decoration-color: #800080; font-weight: bold\">.partial</span><span style=\"color: #000000; text-decoration-color: #000000; font-weight: bold\">(</span><span style=\"color: #000000; text-decoration-color: #000000\">&lt;function </span>\n",
       "<span style=\"color: #000000; text-decoration-color: #000000\">_aget_relevant_documents at </span><span style=\"color: #008080; text-decoration-color: #008080; font-weight: bold\">0x117851bc0</span><span style=\"font-weight: bold\">&gt;</span>, \n",
       "<span style=\"color: #808000; text-decoration-color: #808000\">retriever</span>=<span style=\"color: #800080; text-decoration-color: #800080; font-weight: bold\">VertexAIMultiTurnSearchRetriever</span><span style=\"font-weight: bold\">(</span><span style=\"color: #808000; text-decoration-color: #808000\">project_id</span>=<span style=\"color: #008000; text-decoration-color: #008000\">'amw-dna-coe-working-ds-dev'</span>, \n",
       "<span style=\"color: #808000; text-decoration-color: #808000\">data_store_id</span>=<span style=\"color: #008000; text-decoration-color: #008000\">'core-plan-document-of-record_1728023514692'</span>, <span style=\"color: #808000; text-decoration-color: #808000\">location_id</span>=<span style=\"color: #008000; text-decoration-color: #008000\">'us'</span><span style=\"font-weight: bold\">)</span>, \n",
       "<span style=\"color: #808000; text-decoration-color: #808000\">document_prompt</span>=<span style=\"color: #800080; text-decoration-color: #800080; font-weight: bold\">PromptTemplate</span><span style=\"font-weight: bold\">(</span><span style=\"color: #808000; text-decoration-color: #808000\">input_variables</span>=<span style=\"font-weight: bold\">[</span><span style=\"color: #008000; text-decoration-color: #008000\">'page_content'</span><span style=\"font-weight: bold\">]</span>, <span style=\"color: #808000; text-decoration-color: #808000\">input_types</span>=<span style=\"font-weight: bold\">{}</span>, <span style=\"color: #808000; text-decoration-color: #808000\">partial_variables</span>=<span style=\"font-weight: bold\">{}</span>, \n",
       "<span style=\"color: #808000; text-decoration-color: #808000\">template</span>=<span style=\"color: #008000; text-decoration-color: #008000\">'{page_content}'</span><span style=\"font-weight: bold\">)</span>, <span style=\"color: #808000; text-decoration-color: #808000\">document_separator</span>=<span style=\"color: #008000; text-decoration-color: #008000\">'\\n\\n'</span><span style=\"font-weight: bold\">)</span> generated an exception: <span style=\"color: #008080; text-decoration-color: #008080; font-weight: bold\">404</span> DataStore \n",
       "projects/<span style=\"color: #008080; text-decoration-color: #008080; font-weight: bold\">223619550913</span>/locations/us/collections/default_collection/dataStores/core-plan-document-of-record_172802351\n",
       "4692 not found.\n",
       "</pre>\n"
      ],
      "text/plain": [
       "\u001b[33mname\u001b[0m=\u001b[32m'amway_sales_plan'\u001b[0m \u001b[33mdescription\u001b[0m=\u001b[32m'Search and return information from the amway core sales plan documnents'\u001b[0m \n",
       "\u001b[33margs_schema\u001b[0m=\u001b[1m<\u001b[0m\u001b[1;95mclass\u001b[0m\u001b[39m \u001b[0m\u001b[32m'langchain_core.tools.retriever.RetrieverInput'\u001b[0m\u001b[39m> \u001b[0m\u001b[33mfunc\u001b[0m\u001b[39m=\u001b[0m\u001b[1;35mfunctools\u001b[0m\u001b[1;35m.partial\u001b[0m\u001b[1;39m(\u001b[0m\u001b[39m<function \u001b[0m\n",
       "\u001b[39m_get_relevant_documents at \u001b[0m\u001b[1;36m0x117255da0\u001b[0m\u001b[39m>, \u001b[0m\n",
       "\u001b[33mretriever\u001b[0m\u001b[39m=\u001b[0m\u001b[1;35mVertexAIMultiTurnSearchRetriever\u001b[0m\u001b[1;39m(\u001b[0m\u001b[33mproject_id\u001b[0m\u001b[39m=\u001b[0m\u001b[32m'amw-dna-coe-working-ds-dev'\u001b[0m\u001b[39m, \u001b[0m\n",
       "\u001b[33mdata_store_id\u001b[0m\u001b[39m=\u001b[0m\u001b[32m'core-plan-document-of-record_1728023514692'\u001b[0m\u001b[39m, \u001b[0m\u001b[33mlocation_id\u001b[0m\u001b[39m=\u001b[0m\u001b[32m'us'\u001b[0m\u001b[1;39m)\u001b[0m\u001b[39m, \u001b[0m\n",
       "\u001b[33mdocument_prompt\u001b[0m\u001b[39m=\u001b[0m\u001b[1;35mPromptTemplate\u001b[0m\u001b[1;39m(\u001b[0m\u001b[33minput_variables\u001b[0m\u001b[39m=\u001b[0m\u001b[1;39m[\u001b[0m\u001b[32m'page_content'\u001b[0m\u001b[1;39m]\u001b[0m\u001b[39m, \u001b[0m\u001b[33minput_types\u001b[0m\u001b[39m=\u001b[0m\u001b[1;39m{\u001b[0m\u001b[1;39m}\u001b[0m\u001b[39m, \u001b[0m\u001b[33mpartial_variables\u001b[0m\u001b[39m=\u001b[0m\u001b[1;39m{\u001b[0m\u001b[1;39m}\u001b[0m\u001b[39m, \u001b[0m\n",
       "\u001b[33mtemplate\u001b[0m\u001b[39m=\u001b[0m\u001b[32m'\u001b[0m\u001b[32m{\u001b[0m\u001b[32mpage_content\u001b[0m\u001b[32m}\u001b[0m\u001b[32m'\u001b[0m\u001b[1;39m)\u001b[0m\u001b[39m, \u001b[0m\u001b[33mdocument_separator\u001b[0m\u001b[39m=\u001b[0m\u001b[32m'\\n\\n'\u001b[0m\u001b[1;39m)\u001b[0m\u001b[39m \u001b[0m\u001b[33mcoroutine\u001b[0m\u001b[39m=\u001b[0m\u001b[1;35mfunctools\u001b[0m\u001b[1;35m.partial\u001b[0m\u001b[1;39m(\u001b[0m\u001b[39m<function \u001b[0m\n",
       "\u001b[39m_aget_relevant_documents at \u001b[0m\u001b[1;36m0x117851bc0\u001b[0m\u001b[1m>\u001b[0m, \n",
       "\u001b[33mretriever\u001b[0m=\u001b[1;35mVertexAIMultiTurnSearchRetriever\u001b[0m\u001b[1m(\u001b[0m\u001b[33mproject_id\u001b[0m=\u001b[32m'amw-dna-coe-working-ds-dev'\u001b[0m, \n",
       "\u001b[33mdata_store_id\u001b[0m=\u001b[32m'core-plan-document-of-record_1728023514692'\u001b[0m, \u001b[33mlocation_id\u001b[0m=\u001b[32m'us'\u001b[0m\u001b[1m)\u001b[0m, \n",
       "\u001b[33mdocument_prompt\u001b[0m=\u001b[1;35mPromptTemplate\u001b[0m\u001b[1m(\u001b[0m\u001b[33minput_variables\u001b[0m=\u001b[1m[\u001b[0m\u001b[32m'page_content'\u001b[0m\u001b[1m]\u001b[0m, \u001b[33minput_types\u001b[0m=\u001b[1m{\u001b[0m\u001b[1m}\u001b[0m, \u001b[33mpartial_variables\u001b[0m=\u001b[1m{\u001b[0m\u001b[1m}\u001b[0m, \n",
       "\u001b[33mtemplate\u001b[0m=\u001b[32m'\u001b[0m\u001b[32m{\u001b[0m\u001b[32mpage_content\u001b[0m\u001b[32m}\u001b[0m\u001b[32m'\u001b[0m\u001b[1m)\u001b[0m, \u001b[33mdocument_separator\u001b[0m=\u001b[32m'\\n\\n'\u001b[0m\u001b[1m)\u001b[0m generated an exception: \u001b[1;36m404\u001b[0m DataStore \n",
       "projects/\u001b[1;36m223619550913\u001b[0m/locations/us/collections/default_collection/dataStores/core-plan-document-of-record_172802351\n",
       "4692 not found.\n"
      ]
     },
     "metadata": {},
     "output_type": "display_data"
    },
    {
     "data": {
      "text/html": [
       "<pre style=\"white-space:pre;overflow-x:auto;line-height:normal;font-family:Menlo,'DejaVu Sans Mono',consolas,'Courier New',monospace\">Output from node <span style=\"color: #008000; text-decoration-color: #008000\">'retrieve'</span>:\n",
       "</pre>\n"
      ],
      "text/plain": [
       "Output from node \u001b[32m'retrieve'\u001b[0m:\n"
      ]
     },
     "metadata": {},
     "output_type": "display_data"
    },
    {
     "data": {
      "text/html": [
       "<pre style=\"white-space:pre;overflow-x:auto;line-height:normal;font-family:Menlo,'DejaVu Sans Mono',consolas,'Courier New',monospace\">---\n",
       "</pre>\n"
      ],
      "text/plain": [
       "---\n"
      ]
     },
     "metadata": {},
     "output_type": "display_data"
    },
    {
     "data": {
      "text/html": [
       "<pre style=\"white-space:pre;overflow-x:auto;line-height:normal;font-family:Menlo,'DejaVu Sans Mono',consolas,'Courier New',monospace\"><span style=\"font-weight: bold\">{</span>\n",
       "    <span style=\"color: #008000; text-decoration-color: #008000\">'retrieved_docs'</span>: <span style=\"font-weight: bold\">[</span>\n",
       "        <span style=\"color: #008000; text-decoration-color: #008000\">'The science behind wholesome eating Loading ... Amway logo Skip to main content Loading ... Buy 3, Get 1 </span>\n",
       "<span style=\"color: #008000; text-decoration-color: #008000\">Free! Registered customers can earn a FREE qualifying Wellness Solution!\\n\\nBalancing nutrition and convenience for</span>\n",
       "<span style=\"color: #008000; text-decoration-color: #008000\">healthy meals Learn how to find healthy meal replacement options that meet your needs, whether they&amp;#39;re </span>\n",
       "<span style=\"color: #008000; text-decoration-color: #008000\">plant-based, vegan or organic.\\n\\nSo, what are foods that give you energy? “Nuts and seeds are some of the best </span>\n",
       "<span style=\"color: #008000; text-decoration-color: #008000\">foods to beat fatigue and fight hunger, especially chia seeds,” Throop said.\\n\\nFind out how much you need and get </span>\n",
       "<span style=\"color: #008000; text-decoration-color: #008000\">strategies for incorporating the right protein for your dietary needs. September 6, 2023 Read Article A smiling </span>\n",
       "<span style=\"color: #008000; text-decoration-color: #008000\">woman with long hair holds a bowl full of nutritious food. What are nutrients?\\n\\nShowing your kids exactly where </span>\n",
       "<span style=\"color: #008000; text-decoration-color: #008000\">their food comes from and involving them in the picking process will encourage them to—literally—enjoy the fruits </span>\n",
       "<span style=\"color: #008000; text-decoration-color: #008000\">of their labor.\\n\\n“The good news is that a well-balanced diet filled with a variety of fruits and vegetables </span>\n",
       "<span style=\"color: #008000; text-decoration-color: #008000\">typically delivers everything your body needs,” Throop said.\\n\\nCooking foods in various ways (like steaming, </span>\n",
       "<span style=\"color: #008000; text-decoration-color: #008000\">roasting, and mashing) can help kids be more open to these foods and prevent your child from turning into a picky </span>\n",
       "<span style=\"color: #008000; text-decoration-color: #008000\">eater later in life. 3.\\n\\nConsider these quick nutrition tips if you&amp;#39;re looking for healthy lifestyle diet </span>\n",
       "<span style=\"color: #008000; text-decoration-color: #008000\">changes. 1.\\n\\nEach 1mL serving delivers vitamins C and D and zinc as well as superfruits elderberries and acerola </span>\n",
       "<span style=\"color: #008000; text-decoration-color: #008000\">cherries. It can be taken directly or mixed with any other food or beverage, making it perfect for the picky </span>\n",
       "<span style=\"color: #008000; text-decoration-color: #008000\">eater.\\n\\nThe good news is the number of healthy fast food options continues to grow.'</span>\n",
       "    <span style=\"font-weight: bold\">]</span>\n",
       "<span style=\"font-weight: bold\">}</span>\n",
       "</pre>\n"
      ],
      "text/plain": [
       "\u001b[1m{\u001b[0m\n",
       "    \u001b[32m'retrieved_docs'\u001b[0m: \u001b[1m[\u001b[0m\n",
       "        \u001b[32m'The science behind wholesome eating Loading ... Amway logo Skip to main content Loading ... Buy 3, Get 1 \u001b[0m\n",
       "\u001b[32mFree! Registered customers can earn a FREE qualifying Wellness Solution!\\n\\nBalancing nutrition and convenience for\u001b[0m\n",
       "\u001b[32mhealthy meals Learn how to find healthy meal replacement options that meet your needs, whether they&#39;re \u001b[0m\n",
       "\u001b[32mplant-based, vegan or organic.\\n\\nSo, what are foods that give you energy? “Nuts and seeds are some of the best \u001b[0m\n",
       "\u001b[32mfoods to beat fatigue and fight hunger, especially chia seeds,” Throop said.\\n\\nFind out how much you need and get \u001b[0m\n",
       "\u001b[32mstrategies for incorporating the right protein for your dietary needs. September 6, 2023 Read Article A smiling \u001b[0m\n",
       "\u001b[32mwoman with long hair holds a bowl full of nutritious food. What are nutrients?\\n\\nShowing your kids exactly where \u001b[0m\n",
       "\u001b[32mtheir food comes from and involving them in the picking process will encourage them to—literally—enjoy the fruits \u001b[0m\n",
       "\u001b[32mof their labor.\\n\\n“The good news is that a well-balanced diet filled with a variety of fruits and vegetables \u001b[0m\n",
       "\u001b[32mtypically delivers everything your body needs,” Throop said.\\n\\nCooking foods in various ways \u001b[0m\u001b[32m(\u001b[0m\u001b[32mlike steaming, \u001b[0m\n",
       "\u001b[32mroasting, and mashing\u001b[0m\u001b[32m)\u001b[0m\u001b[32m can help kids be more open to these foods and prevent your child from turning into a picky \u001b[0m\n",
       "\u001b[32meater later in life. 3.\\n\\nConsider these quick nutrition tips if you&#39;re looking for healthy lifestyle diet \u001b[0m\n",
       "\u001b[32mchanges. 1.\\n\\nEach 1mL serving delivers vitamins C and D and zinc as well as superfruits elderberries and acerola \u001b[0m\n",
       "\u001b[32mcherries. It can be taken directly or mixed with any other food or beverage, making it perfect for the picky \u001b[0m\n",
       "\u001b[32meater.\\n\\nThe good news is the number of healthy fast food options continues to grow.'\u001b[0m\n",
       "    \u001b[1m]\u001b[0m\n",
       "\u001b[1m}\u001b[0m\n"
      ]
     },
     "metadata": {},
     "output_type": "display_data"
    },
    {
     "data": {
      "text/html": [
       "<pre style=\"white-space:pre;overflow-x:auto;line-height:normal;font-family:Menlo,'DejaVu Sans Mono',consolas,'Courier New',monospace\">\n",
       "---\n",
       "\n",
       "</pre>\n"
      ],
      "text/plain": [
       "\n",
       "---\n",
       "\n"
      ]
     },
     "metadata": {},
     "output_type": "display_data"
    },
    {
     "data": {
      "text/html": [
       "<pre style=\"white-space:pre;overflow-x:auto;line-height:normal;font-family:Menlo,'DejaVu Sans Mono',consolas,'Courier New',monospace\">---CHECK RELEVANCE---\n",
       "</pre>\n"
      ],
      "text/plain": [
       "---CHECK RELEVANCE---\n"
      ]
     },
     "metadata": {},
     "output_type": "display_data"
    },
    {
     "data": {
      "text/html": [
       "<pre style=\"white-space:pre;overflow-x:auto;line-height:normal;font-family:Menlo,'DejaVu Sans Mono',consolas,'Courier New',monospace\">docs\n",
       "<span style=\"font-weight: bold\">[</span>\n",
       "    <span style=\"color: #008000; text-decoration-color: #008000\">'The science behind wholesome eating Loading ... Amway logo Skip to main content Loading ... Buy 3, Get 1 Free!</span>\n",
       "<span style=\"color: #008000; text-decoration-color: #008000\">Registered customers can earn a FREE qualifying Wellness Solution!\\n\\nBalancing nutrition and convenience for </span>\n",
       "<span style=\"color: #008000; text-decoration-color: #008000\">healthy meals Learn how to find healthy meal replacement options that meet your needs, whether they&amp;#39;re </span>\n",
       "<span style=\"color: #008000; text-decoration-color: #008000\">plant-based, vegan or organic.\\n\\nSo, what are foods that give you energy? “Nuts and seeds are some of the best </span>\n",
       "<span style=\"color: #008000; text-decoration-color: #008000\">foods to beat fatigue and fight hunger, especially chia seeds,” Throop said.\\n\\nFind out how much you need and get </span>\n",
       "<span style=\"color: #008000; text-decoration-color: #008000\">strategies for incorporating the right protein for your dietary needs. September 6, 2023 Read Article A smiling </span>\n",
       "<span style=\"color: #008000; text-decoration-color: #008000\">woman with long hair holds a bowl full of nutritious food. What are nutrients?\\n\\nShowing your kids exactly where </span>\n",
       "<span style=\"color: #008000; text-decoration-color: #008000\">their food comes from and involving them in the picking process will encourage them to—literally—enjoy the fruits </span>\n",
       "<span style=\"color: #008000; text-decoration-color: #008000\">of their labor.\\n\\n“The good news is that a well-balanced diet filled with a variety of fruits and vegetables </span>\n",
       "<span style=\"color: #008000; text-decoration-color: #008000\">typically delivers everything your body needs,” Throop said.\\n\\nCooking foods in various ways (like steaming, </span>\n",
       "<span style=\"color: #008000; text-decoration-color: #008000\">roasting, and mashing) can help kids be more open to these foods and prevent your child from turning into a picky </span>\n",
       "<span style=\"color: #008000; text-decoration-color: #008000\">eater later in life. 3.\\n\\nConsider these quick nutrition tips if you&amp;#39;re looking for healthy lifestyle diet </span>\n",
       "<span style=\"color: #008000; text-decoration-color: #008000\">changes. 1.\\n\\nEach 1mL serving delivers vitamins C and D and zinc as well as superfruits elderberries and acerola </span>\n",
       "<span style=\"color: #008000; text-decoration-color: #008000\">cherries. It can be taken directly or mixed with any other food or beverage, making it perfect for the picky </span>\n",
       "<span style=\"color: #008000; text-decoration-color: #008000\">eater.\\n\\nThe good news is the number of healthy fast food options continues to grow.'</span>\n",
       "<span style=\"font-weight: bold\">]</span>\n",
       "</pre>\n"
      ],
      "text/plain": [
       "docs\n",
       "\u001b[1m[\u001b[0m\n",
       "    \u001b[32m'The science behind wholesome eating Loading ... Amway logo Skip to main content Loading ... Buy 3, Get 1 Free!\u001b[0m\n",
       "\u001b[32mRegistered customers can earn a FREE qualifying Wellness Solution!\\n\\nBalancing nutrition and convenience for \u001b[0m\n",
       "\u001b[32mhealthy meals Learn how to find healthy meal replacement options that meet your needs, whether they&#39;re \u001b[0m\n",
       "\u001b[32mplant-based, vegan or organic.\\n\\nSo, what are foods that give you energy? “Nuts and seeds are some of the best \u001b[0m\n",
       "\u001b[32mfoods to beat fatigue and fight hunger, especially chia seeds,” Throop said.\\n\\nFind out how much you need and get \u001b[0m\n",
       "\u001b[32mstrategies for incorporating the right protein for your dietary needs. September 6, 2023 Read Article A smiling \u001b[0m\n",
       "\u001b[32mwoman with long hair holds a bowl full of nutritious food. What are nutrients?\\n\\nShowing your kids exactly where \u001b[0m\n",
       "\u001b[32mtheir food comes from and involving them in the picking process will encourage them to—literally—enjoy the fruits \u001b[0m\n",
       "\u001b[32mof their labor.\\n\\n“The good news is that a well-balanced diet filled with a variety of fruits and vegetables \u001b[0m\n",
       "\u001b[32mtypically delivers everything your body needs,” Throop said.\\n\\nCooking foods in various ways \u001b[0m\u001b[32m(\u001b[0m\u001b[32mlike steaming, \u001b[0m\n",
       "\u001b[32mroasting, and mashing\u001b[0m\u001b[32m)\u001b[0m\u001b[32m can help kids be more open to these foods and prevent your child from turning into a picky \u001b[0m\n",
       "\u001b[32meater later in life. 3.\\n\\nConsider these quick nutrition tips if you&#39;re looking for healthy lifestyle diet \u001b[0m\n",
       "\u001b[32mchanges. 1.\\n\\nEach 1mL serving delivers vitamins C and D and zinc as well as superfruits elderberries and acerola \u001b[0m\n",
       "\u001b[32mcherries. It can be taken directly or mixed with any other food or beverage, making it perfect for the picky \u001b[0m\n",
       "\u001b[32meater.\\n\\nThe good news is the number of healthy fast food options continues to grow.'\u001b[0m\n",
       "\u001b[1m]\u001b[0m\n"
      ]
     },
     "metadata": {},
     "output_type": "display_data"
    },
    {
     "data": {
      "text/html": [
       "<pre style=\"white-space:pre;overflow-x:auto;line-height:normal;font-family:Menlo,'DejaVu Sans Mono',consolas,'Courier New',monospace\">---DECISION: DOCS NOT RELEVANT---\n",
       "</pre>\n"
      ],
      "text/plain": [
       "---DECISION: DOCS NOT RELEVANT---\n"
      ]
     },
     "metadata": {},
     "output_type": "display_data"
    },
    {
     "data": {
      "text/html": [
       "<pre style=\"white-space:pre;overflow-x:auto;line-height:normal;font-family:Menlo,'DejaVu Sans Mono',consolas,'Courier New',monospace\">no\n",
       "</pre>\n"
      ],
      "text/plain": [
       "no\n"
      ]
     },
     "metadata": {},
     "output_type": "display_data"
    },
    {
     "data": {
      "text/html": [
       "<pre style=\"white-space:pre;overflow-x:auto;line-height:normal;font-family:Menlo,'DejaVu Sans Mono',consolas,'Courier New',monospace\">Output from node <span style=\"color: #008000; text-decoration-color: #008000\">'grade_documents'</span>:\n",
       "</pre>\n"
      ],
      "text/plain": [
       "Output from node \u001b[32m'grade_documents'\u001b[0m:\n"
      ]
     },
     "metadata": {},
     "output_type": "display_data"
    },
    {
     "data": {
      "text/html": [
       "<pre style=\"white-space:pre;overflow-x:auto;line-height:normal;font-family:Menlo,'DejaVu Sans Mono',consolas,'Courier New',monospace\">---\n",
       "</pre>\n"
      ],
      "text/plain": [
       "---\n"
      ]
     },
     "metadata": {},
     "output_type": "display_data"
    },
    {
     "data": {
      "text/html": [
       "<pre style=\"white-space:pre;overflow-x:auto;line-height:normal;font-family:Menlo,'DejaVu Sans Mono',consolas,'Courier New',monospace\"><span style=\"font-weight: bold\">{</span>\n",
       "    <span style=\"color: #008000; text-decoration-color: #008000\">'messages'</span>: <span style=\"font-weight: bold\">[</span>\n",
       "        <span style=\"color: #800080; text-decoration-color: #800080; font-weight: bold\">HumanMessage</span><span style=\"font-weight: bold\">(</span>\n",
       "            <span style=\"color: #808000; text-decoration-color: #808000\">content</span>=<span style=\"color: #008000; text-decoration-color: #008000\">'Documents are not relevant, So now we check for if it releated to mela-plate or not?'</span>,\n",
       "            <span style=\"color: #808000; text-decoration-color: #808000\">additional_kwargs</span>=<span style=\"font-weight: bold\">{}</span>,\n",
       "            <span style=\"color: #808000; text-decoration-color: #808000\">response_metadata</span>=<span style=\"font-weight: bold\">{}</span>,\n",
       "            <span style=\"color: #808000; text-decoration-color: #808000\">id</span>=<span style=\"color: #008000; text-decoration-color: #008000\">'966764d5-d028-4bf2-b853-2b1c1c2d09fb'</span>\n",
       "        <span style=\"font-weight: bold\">)</span>\n",
       "    <span style=\"font-weight: bold\">]</span>\n",
       "<span style=\"font-weight: bold\">}</span>\n",
       "</pre>\n"
      ],
      "text/plain": [
       "\u001b[1m{\u001b[0m\n",
       "    \u001b[32m'messages'\u001b[0m: \u001b[1m[\u001b[0m\n",
       "        \u001b[1;35mHumanMessage\u001b[0m\u001b[1m(\u001b[0m\n",
       "            \u001b[33mcontent\u001b[0m=\u001b[32m'Documents are not relevant, So now we check for if it releated to mela-plate or not?'\u001b[0m,\n",
       "            \u001b[33madditional_kwargs\u001b[0m=\u001b[1m{\u001b[0m\u001b[1m}\u001b[0m,\n",
       "            \u001b[33mresponse_metadata\u001b[0m=\u001b[1m{\u001b[0m\u001b[1m}\u001b[0m,\n",
       "            \u001b[33mid\u001b[0m=\u001b[32m'966764d5-d028-4bf2-b853-2b1c1c2d09fb'\u001b[0m\n",
       "        \u001b[1m)\u001b[0m\n",
       "    \u001b[1m]\u001b[0m\n",
       "\u001b[1m}\u001b[0m\n"
      ]
     },
     "metadata": {},
     "output_type": "display_data"
    },
    {
     "data": {
      "text/html": [
       "<pre style=\"white-space:pre;overflow-x:auto;line-height:normal;font-family:Menlo,'DejaVu Sans Mono',consolas,'Courier New',monospace\">\n",
       "---\n",
       "\n",
       "</pre>\n"
      ],
      "text/plain": [
       "\n",
       "---\n",
       "\n"
      ]
     },
     "metadata": {},
     "output_type": "display_data"
    },
    {
     "data": {
      "text/html": [
       "<pre style=\"white-space:pre;overflow-x:auto;line-height:normal;font-family:Menlo,'DejaVu Sans Mono',consolas,'Courier New',monospace\">---ANALYZE MEAL QUESTION---\n",
       "</pre>\n"
      ],
      "text/plain": [
       "---ANALYZE MEAL QUESTION---\n"
      ]
     },
     "metadata": {},
     "output_type": "display_data"
    },
    {
     "data": {
      "text/html": [
       "<pre style=\"white-space:pre;overflow-x:auto;line-height:normal;font-family:Menlo,'DejaVu Sans Mono',consolas,'Courier New',monospace\">Output from node <span style=\"color: #008000; text-decoration-color: #008000\">'analyze_meal_question'</span>:\n",
       "</pre>\n"
      ],
      "text/plain": [
       "Output from node \u001b[32m'analyze_meal_question'\u001b[0m:\n"
      ]
     },
     "metadata": {},
     "output_type": "display_data"
    },
    {
     "data": {
      "text/html": [
       "<pre style=\"white-space:pre;overflow-x:auto;line-height:normal;font-family:Menlo,'DejaVu Sans Mono',consolas,'Courier New',monospace\">---\n",
       "</pre>\n"
      ],
      "text/plain": [
       "---\n"
      ]
     },
     "metadata": {},
     "output_type": "display_data"
    },
    {
     "data": {
      "text/html": [
       "<pre style=\"white-space:pre;overflow-x:auto;line-height:normal;font-family:Menlo,'DejaVu Sans Mono',consolas,'Courier New',monospace\"><span style=\"font-weight: bold\">{</span>\n",
       "    <span style=\"color: #008000; text-decoration-color: #008000\">'messages'</span>: <span style=\"font-weight: bold\">[</span>\n",
       "        <span style=\"color: #800080; text-decoration-color: #800080; font-weight: bold\">HumanMessage</span><span style=\"font-weight: bold\">(</span>\n",
       "            <span style=\"color: #808000; text-decoration-color: #808000\">content</span>=<span style=\"color: #008000; text-decoration-color: #008000\">'image scan required.'</span>,\n",
       "            <span style=\"color: #808000; text-decoration-color: #808000\">additional_kwargs</span>=<span style=\"font-weight: bold\">{}</span>,\n",
       "            <span style=\"color: #808000; text-decoration-color: #808000\">response_metadata</span>=<span style=\"font-weight: bold\">{}</span>,\n",
       "            <span style=\"color: #808000; text-decoration-color: #808000\">id</span>=<span style=\"color: #008000; text-decoration-color: #008000\">'9bdec975-5778-45b5-bdc5-7bc72e182b72'</span>\n",
       "        <span style=\"font-weight: bold\">)</span>\n",
       "    <span style=\"font-weight: bold\">]</span>\n",
       "<span style=\"font-weight: bold\">}</span>\n",
       "</pre>\n"
      ],
      "text/plain": [
       "\u001b[1m{\u001b[0m\n",
       "    \u001b[32m'messages'\u001b[0m: \u001b[1m[\u001b[0m\n",
       "        \u001b[1;35mHumanMessage\u001b[0m\u001b[1m(\u001b[0m\n",
       "            \u001b[33mcontent\u001b[0m=\u001b[32m'image scan required.'\u001b[0m,\n",
       "            \u001b[33madditional_kwargs\u001b[0m=\u001b[1m{\u001b[0m\u001b[1m}\u001b[0m,\n",
       "            \u001b[33mresponse_metadata\u001b[0m=\u001b[1m{\u001b[0m\u001b[1m}\u001b[0m,\n",
       "            \u001b[33mid\u001b[0m=\u001b[32m'9bdec975-5778-45b5-bdc5-7bc72e182b72'\u001b[0m\n",
       "        \u001b[1m)\u001b[0m\n",
       "    \u001b[1m]\u001b[0m\n",
       "\u001b[1m}\u001b[0m\n"
      ]
     },
     "metadata": {},
     "output_type": "display_data"
    },
    {
     "data": {
      "text/html": [
       "<pre style=\"white-space:pre;overflow-x:auto;line-height:normal;font-family:Menlo,'DejaVu Sans Mono',consolas,'Courier New',monospace\">\n",
       "---\n",
       "\n",
       "</pre>\n"
      ],
      "text/plain": [
       "\n",
       "---\n",
       "\n"
      ]
     },
     "metadata": {},
     "output_type": "display_data"
    },
    {
     "data": {
      "text/html": [
       "<pre style=\"white-space:pre;overflow-x:auto;line-height:normal;font-family:Menlo,'DejaVu Sans Mono',consolas,'Courier New',monospace\">---Scanning the image---\n",
       "</pre>\n"
      ],
      "text/plain": [
       "---Scanning the image---\n"
      ]
     },
     "metadata": {},
     "output_type": "display_data"
    },
    {
     "data": {
      "text/html": [
       "<pre style=\"white-space:pre;overflow-x:auto;line-height:normal;font-family:Menlo,'DejaVu Sans Mono',consolas,'Courier New',monospace\"><span style=\"font-weight: bold\">&lt;</span><span style=\"color: #ff00ff; text-decoration-color: #ff00ff; font-weight: bold\">_io.BufferedReader</span><span style=\"color: #000000; text-decoration-color: #000000\"> </span><span style=\"color: #808000; text-decoration-color: #808000\">name</span><span style=\"color: #000000; text-decoration-color: #000000\">=</span><span style=\"color: #008000; text-decoration-color: #008000\">'paav.jpg'</span><span style=\"font-weight: bold\">&gt;</span>\n",
       "</pre>\n"
      ],
      "text/plain": [
       "\u001b[1m<\u001b[0m\u001b[1;95m_io.BufferedReader\u001b[0m\u001b[39m \u001b[0m\u001b[33mname\u001b[0m\u001b[39m=\u001b[0m\u001b[32m'paav.jpg'\u001b[0m\u001b[1m>\u001b[0m\n"
      ]
     },
     "metadata": {},
     "output_type": "display_data"
    },
    {
     "data": {
      "text/html": [
       "<pre style=\"white-space:pre;overflow-x:auto;line-height:normal;font-family:Menlo,'DejaVu Sans Mono',consolas,'Courier New',monospace\">Output from node <span style=\"color: #008000; text-decoration-color: #008000\">'meal_image_scan'</span>:\n",
       "</pre>\n"
      ],
      "text/plain": [
       "Output from node \u001b[32m'meal_image_scan'\u001b[0m:\n"
      ]
     },
     "metadata": {},
     "output_type": "display_data"
    },
    {
     "data": {
      "text/html": [
       "<pre style=\"white-space:pre;overflow-x:auto;line-height:normal;font-family:Menlo,'DejaVu Sans Mono',consolas,'Courier New',monospace\">---\n",
       "</pre>\n"
      ],
      "text/plain": [
       "---\n"
      ]
     },
     "metadata": {},
     "output_type": "display_data"
    },
    {
     "data": {
      "text/html": [
       "<pre style=\"white-space:pre;overflow-x:auto;line-height:normal;font-family:Menlo,'DejaVu Sans Mono',consolas,'Courier New',monospace\"><span style=\"font-weight: bold\">{</span>\n",
       "    <span style=\"color: #008000; text-decoration-color: #008000\">'messages'</span>: <span style=\"font-weight: bold\">[</span>\n",
       "        <span style=\"color: #800080; text-decoration-color: #800080; font-weight: bold\">HumanMessage</span><span style=\"font-weight: bold\">(</span>\n",
       "            <span style=\"color: #808000; text-decoration-color: #808000\">content</span>=<span style=\"color: #008000; text-decoration-color: #008000\">'Based on the provided meal analysis, the foods in the meal are:\\n\\n* Vegetable stew\\n* Bread </span>\n",
       "<span style=\"color: #008000; text-decoration-color: #008000\">rolls\\n* Onion and chili salad \\n\\n\\nLet me know if you have any other questions about this meal analysis. \\n'</span>,\n",
       "            <span style=\"color: #808000; text-decoration-color: #808000\">additional_kwargs</span>=<span style=\"font-weight: bold\">{}</span>,\n",
       "            <span style=\"color: #808000; text-decoration-color: #808000\">response_metadata</span>=<span style=\"font-weight: bold\">{}</span>,\n",
       "            <span style=\"color: #808000; text-decoration-color: #808000\">id</span>=<span style=\"color: #008000; text-decoration-color: #008000\">'a3f5d634-3141-4000-9801-9ccfd4a36c9d'</span>\n",
       "        <span style=\"font-weight: bold\">)</span>\n",
       "    <span style=\"font-weight: bold\">]</span>\n",
       "<span style=\"font-weight: bold\">}</span>\n",
       "</pre>\n"
      ],
      "text/plain": [
       "\u001b[1m{\u001b[0m\n",
       "    \u001b[32m'messages'\u001b[0m: \u001b[1m[\u001b[0m\n",
       "        \u001b[1;35mHumanMessage\u001b[0m\u001b[1m(\u001b[0m\n",
       "            \u001b[33mcontent\u001b[0m=\u001b[32m'Based on the provided meal analysis, the foods in the meal are:\\n\\n* Vegetable stew\\n* Bread \u001b[0m\n",
       "\u001b[32mrolls\\n* Onion and chili salad \\n\\n\\nLet me know if you have any other questions about this meal analysis. \\n'\u001b[0m,\n",
       "            \u001b[33madditional_kwargs\u001b[0m=\u001b[1m{\u001b[0m\u001b[1m}\u001b[0m,\n",
       "            \u001b[33mresponse_metadata\u001b[0m=\u001b[1m{\u001b[0m\u001b[1m}\u001b[0m,\n",
       "            \u001b[33mid\u001b[0m=\u001b[32m'a3f5d634-3141-4000-9801-9ccfd4a36c9d'\u001b[0m\n",
       "        \u001b[1m)\u001b[0m\n",
       "    \u001b[1m]\u001b[0m\n",
       "\u001b[1m}\u001b[0m\n"
      ]
     },
     "metadata": {},
     "output_type": "display_data"
    },
    {
     "data": {
      "text/html": [
       "<pre style=\"white-space:pre;overflow-x:auto;line-height:normal;font-family:Menlo,'DejaVu Sans Mono',consolas,'Courier New',monospace\">\n",
       "---\n",
       "\n",
       "</pre>\n"
      ],
      "text/plain": [
       "\n",
       "---\n",
       "\n"
      ]
     },
     "metadata": {},
     "output_type": "display_data"
    }
   ],
   "source": [
    "# # Example usage\n",
    "# inputs = {\n",
    "#     \"messages\": [\n",
    "#         HumanMessage(content=\"Please scan this barcode and provide me the calaories in this food. \"),\n",
    "#     ]\n",
    "# }\n",
    "\n",
    "# Example usage\n",
    "import base64\n",
    "sample_input = UserInput(\n",
    "    text=\"identify all the  foods in this image?  \",\n",
    "    image=ImageInput(\n",
    "        filename=\"paav.jpg\"\n",
    "    )\n",
    ")\n",
    "\n",
    "inputs = {\n",
    "    \"user_input\": sample_input\n",
    "}\n",
    "\n",
    "for output in graph.stream(inputs):\n",
    "    for key, value in output.items():\n",
    "        print(f\"Output from node '{key}':\")\n",
    "        print(\"---\")\n",
    "        print(value)\n",
    "    print(\"\\n---\\n\")"
   ]
  },
  {
   "cell_type": "code",
   "execution_count": null,
   "metadata": {},
   "outputs": [],
   "source": []
  }
 ],
 "metadata": {
  "kernelspec": {
   "display_name": "mannu2",
   "language": "python",
   "name": "python3"
  },
  "language_info": {
   "codemirror_mode": {
    "name": "ipython",
    "version": 3
   },
   "file_extension": ".py",
   "mimetype": "text/x-python",
   "name": "python",
   "nbconvert_exporter": "python",
   "pygments_lexer": "ipython3",
   "version": "3.12.6"
  }
 },
 "nbformat": 4,
 "nbformat_minor": 2
}
