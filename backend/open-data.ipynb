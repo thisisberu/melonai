{
 "cells": [
  {
   "cell_type": "code",
   "execution_count": 1,
   "metadata": {},
   "outputs": [],
   "source": [
    "import os\n",
    "import sys\n",
    "\n",
    "module_path = os.path.abspath(os.path.join('..'))\n",
    "sys.path.append(module_path)"
   ]
  },
  {
   "cell_type": "code",
   "execution_count": 2,
   "metadata": {},
   "outputs": [
    {
     "name": "stdout",
     "output_type": "stream",
     "text": [
      "Updated property [core/project].\n",
      "Project has been set to amw-dna-coe-working-ds-dev\n"
     ]
    }
   ],
   "source": [
    "#@markdown Please fill in the value below with your GCP project ID and then run the cell.\n",
    "PROJECT_ID = \"amw-dna-coe-working-ds-dev\"\n",
    "\n",
    "# Quick input validations.\n",
    "assert PROJECT_ID, \"⚠️ Please provide your Google Cloud Project ID\"\n",
    "\n",
    "# Configure gcloud.\n",
    "!gcloud config set project {PROJECT_ID}\n",
    "print(f'Project has been set to {PROJECT_ID}')\n",
    "\n",
    "os.environ['GOOGLE_CLOUD_QUOTA_PROJECT']=PROJECT_ID\n",
    "os.environ['GOOGLE_CLOUD_PROJECT']=PROJECT_ID\n",
    "\n",
    "#If errors out for authentication restart the kernel and start from the previous cell"
   ]
  },
  {
   "cell_type": "code",
   "execution_count": 3,
   "metadata": {},
   "outputs": [
    {
     "name": "stdout",
     "output_type": "stream",
     "text": [
      "Operation \"operations/acat.p2-223619550913-c81614a8-465c-4ec4-9a04-bea11145138d\" finished successfully.\n"
     ]
    }
   ],
   "source": [
    "!gcloud services enable \\\n",
    "  cloudapis.googleapis.com \\\n",
    "  compute.googleapis.com \\\n",
    "  iam.googleapis.com \\\n",
    "  run.googleapis.com \\\n",
    "  sqladmin.googleapis.com \\\n",
    "  aiplatform.googleapis.com \\\n",
    "  bigquery.googleapis.com \\\n",
    "  firestore.googleapis.com --project {PROJECT_ID}"
   ]
  },
  {
   "cell_type": "code",
   "execution_count": null,
   "metadata": {},
   "outputs": [],
   "source": []
  }
 ],
 "metadata": {
  "kernelspec": {
   "display_name": "mannu2",
   "language": "python",
   "name": "python3"
  },
  "language_info": {
   "codemirror_mode": {
    "name": "ipython",
    "version": 3
   },
   "file_extension": ".py",
   "mimetype": "text/x-python",
   "name": "python",
   "nbconvert_exporter": "python",
   "pygments_lexer": "ipython3",
   "version": "3.12.6"
  }
 },
 "nbformat": 4,
 "nbformat_minor": 2
}
